{
  "nbformat": 4,
  "nbformat_minor": 0,
  "metadata": {
    "colab": {
      "provenance": [],
      "include_colab_link": true
    },
    "kernelspec": {
      "name": "python3",
      "display_name": "Python 3"
    },
    "language_info": {
      "name": "python"
    }
  },
  "cells": [
    {
      "cell_type": "markdown",
      "metadata": {
        "id": "view-in-github",
        "colab_type": "text"
      },
      "source": [
        "<a href=\"https://colab.research.google.com/github/shnj-inoue/setsumei2023_3/blob/main/heimen.ipynb\" target=\"_parent\"><img src=\"https://colab.research.google.com/assets/colab-badge.svg\" alt=\"Open In Colab\"/></a>"
      ]
    },
    {
      "cell_type": "markdown",
      "source": [
        "### Numpyを使ったプログラムを作成します。"
      ],
      "metadata": {
        "id": "CcqmWHhQGTtN"
      }
    },
    {
      "cell_type": "code",
      "source": [
        "import numpy as np\n",
        "from mpl_toolkits.mplot3d import Axes3D\n",
        "import matplotlib.pyplot as plt\n",
        "\n",
        "list_A  = []\n",
        "list_B = []\n",
        "list_C = []\n",
        "axis = [\"x\",\"y\",\"z\"]\n",
        "\n",
        "print(\"点A,B,Cの座標を通る平面の方程式を求めグラフ化します\\n\")\n",
        "\n",
        "#各点の座標の入力\n",
        "for _ in range(3):\n",
        "    num = int(input(\"点Aの\"+axis[_]+\"座標を-10から10までの整数で入力してください：\"))\n",
        "    list_A.append(num)\n",
        "array_A = np.array(list_A)\n",
        "print()\n",
        "\n",
        "for _ in range(3):\n",
        "    num = int(input(\"点Bの\"+axis[_]+\"座標を-10から10までの整数で入力してください：\"))\n",
        "    list_B.append(num)\n",
        "array_B = np.array(list_B)\n",
        "print()\n",
        "\n",
        "for _ in range(3):\n",
        "    num = int(input(\"点Cの\"+axis[_]+\"座標を-10から10までの整数で入力してください：\"))\n",
        "    list_C.append(num)\n",
        "array_C = np.array(list_C)\n",
        "print()\n",
        "\n",
        "print(\"点Aの座標：\"+str(array_A))\n",
        "print(\"点Bの座標：\"+str(array_B))\n",
        "print(\"点Cの座標：\"+str(array_C))\n",
        "\n",
        "vec_AB = array_B - array_A\n",
        "vec_AC = array_C - array_A\n",
        "cross_ABC = np.cross(vec_AB,vec_AC)\n",
        "\n",
        "\n",
        "print(\"ABベクトル :\",vec_AB)\n",
        "print(\"ACベクトル :\",vec_AC)\n",
        "print(\"法線ベクトル :\",cross_ABC)\n",
        "\n",
        "\n",
        "fig = plt.figure()\n",
        "ax = Axes3D(fig)\n",
        "fig.add_axes(ax)\n",
        "\n",
        "x = np.arange(-30, 30)\n",
        "y = np.arange(-30, 30)\n",
        "x, y = np.meshgrid(x, y)\n",
        "z = (cross_ABC[0]*array_A[0] + cross_ABC[1]*array_A[1] + cross_ABC[2]*array_A[2] - cross_ABC[0]*x - cross_ABC[1]*y) / cross_ABC[2]\n",
        "\n",
        "ax.set_xlabel(\"X\")\n",
        "ax.set_ylabel(\"Y\")\n",
        "ax.set_zlabel(\"Z\")\n",
        "ax.plot_surface(x, y, z, rstride=1, cstride=1, cmap='cool', linewidth=0.3)\n",
        "ax.plot(array_A[0],array_A[1],array_A[2],marker=\".\",color=\"black\",label=\"Point A\")\n",
        "ax.legend()\n",
        "plt.show()"
      ],
      "metadata": {
        "id": "hzjqByRPGZT7"
      },
      "execution_count": null,
      "outputs": []
    }
  ]
}